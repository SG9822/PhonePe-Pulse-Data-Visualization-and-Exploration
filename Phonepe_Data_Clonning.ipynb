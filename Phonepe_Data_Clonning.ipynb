{
 "cells": [
  {
   "cell_type": "code",
   "execution_count": null,
   "id": "23293bf2",
   "metadata": {},
   "outputs": [],
   "source": [
    "import json\n",
    "import pymysql\n",
    "import pandas as pd\n",
    "import os"
   ]
  },
  {
   "cell_type": "code",
   "execution_count": null,
   "id": "a2f87840",
   "metadata": {},
   "outputs": [],
   "source": [
    "!git clone https://github.com/PhonePe/pulse.git"
   ]
  },
  {
   "cell_type": "code",
   "execution_count": null,
   "id": "3bfd6b11",
   "metadata": {},
   "outputs": [],
   "source": [
    "myconnection = pymysql.connect(host='127.0.0.1', user='root',passwd='your MySQL Password')\n",
    "cur = myconnection.cursor()\n",
    "cur.execute('create database Phonepe')"
   ]
  },
  {
   "cell_type": "code",
   "execution_count": null,
   "id": "7a111eff",
   "metadata": {},
   "outputs": [],
   "source": [
    "myconnection = pymysql.connect(host='127.0.0.1', user='root',passwd='MySQL@123',database='Phonepe')\n",
    "cur = myconnection.cursor()\n",
    "cur.execute('use Phonepe')"
   ]
  },
  {
   "cell_type": "code",
   "execution_count": null,
   "id": "359283a4",
   "metadata": {},
   "outputs": [],
   "source": [
    "from sqlalchemy import create_engine\n",
    "from urllib.parse import quote\n",
    "user = 'root'\n",
    "password = quote('MySQL@123')\n",
    "host = '127.0.0.1'\n",
    "port = 3306\n",
    "database = 'Phonepe'\n",
    "engine = create_engine(f'mysql+mysqlconnector://{user}:{password}@{host}:{port}/{database}')"
   ]
  },
  {
   "cell_type": "markdown",
   "id": "69f6f3b1",
   "metadata": {},
   "source": [
    "## Aggregated Transactions"
   ]
  },
  {
   "cell_type": "code",
   "execution_count": null,
   "id": "ffcb0e8b",
   "metadata": {},
   "outputs": [],
   "source": [
    "path=\"C:/Users/DEVAHARINI.KR/Downloads/pulse/data/aggregated/transaction/country/india/state/\"\n",
    "Agg_state_list=os.listdir(path)\n",
    "clm={'State':[], 'Year':[],'Quater':[],'Transacion_type':[], 'Transacion_count':[], 'Transacion_amount':[]}\n",
    "for i in Agg_state_list:\n",
    "    p_i=path+i+\"/\"\n",
    "    Agg_yr=os.listdir(p_i)\n",
    "    for j in Agg_yr:\n",
    "        p_j=p_i+j+\"/\"\n",
    "        Agg_yr_list=os.listdir(p_j)\n",
    "        for k in Agg_yr_list:\n",
    "            p_k=p_j+k\n",
    "            Data=open(p_k,'r')\n",
    "            D=json.load(Data)\n",
    "            for z in D['data']['transactionData']:\n",
    "                Name=z['name']\n",
    "                count=z['paymentInstruments'][0]['count']\n",
    "                amount=z['paymentInstruments'][0]['amount']\n",
    "                clm['Transacion_type'].append(Name)\n",
    "                clm['Transacion_count'].append(count)\n",
    "                clm['Transacion_amount'].append(amount)\n",
    "                clm['State'].append(i)\n",
    "                clm['Year'].append(j)\n",
    "                clm['Quater'].append(int(k.strip('.json')))\n",
    "\n",
    "Agg_Trans=pd.DataFrame(clm)\n",
    "Agg_Trans"
   ]
  },
  {
   "cell_type": "code",
   "execution_count": null,
   "id": "61ce3653",
   "metadata": {},
   "outputs": [],
   "source": [
    "Agg_Trans['State'][Agg_Trans['State']=='andaman-&-nicobar-islands'] = 'andaman-&-nicobar'\n",
    "Agg_Trans['State'][Agg_Trans['State']=='dadra-&-nagar-haveli-&-daman-&-diu'] = 'dadra-and-nagar-haveli-and-daman-and-diu'"
   ]
  },
  {
   "cell_type": "code",
   "execution_count": null,
   "id": "80cf11e5",
   "metadata": {},
   "outputs": [],
   "source": [
    "Agg_Trans.to_sql('aggregated_transaction', con=engine, if_exists='replace', index=False)"
   ]
  },
  {
   "cell_type": "code",
   "execution_count": null,
   "id": "f7c1046e",
   "metadata": {},
   "outputs": [],
   "source": []
  },
  {
   "cell_type": "code",
   "execution_count": null,
   "id": "39dfa89a",
   "metadata": {},
   "outputs": [],
   "source": []
  },
  {
   "cell_type": "code",
   "execution_count": null,
   "id": "d6e397d3",
   "metadata": {},
   "outputs": [],
   "source": []
  },
  {
   "cell_type": "markdown",
   "id": "23a68751",
   "metadata": {},
   "source": [
    "## Aggregated User"
   ]
  },
  {
   "cell_type": "code",
   "execution_count": null,
   "id": "6f7e23f7",
   "metadata": {},
   "outputs": [],
   "source": [
    "path=\"C:/Users/DEVAHARINI.KR/Downloads/pulse/data/aggregated/user/country/india/state/\"\n",
    "Agg_state_list=os.listdir(path)\n",
    "clm={'State':[], 'Year':[],'Quater':[], 'Registered_User': [], 'App_Opens':[]}\n",
    "for i in Agg_state_list:\n",
    "    p_i=path+i+\"/\"\n",
    "    Agg_yr=os.listdir(p_i)\n",
    "    for j in Agg_yr:\n",
    "        p_j=p_i+j+\"/\"\n",
    "        Agg_yr_list=os.listdir(p_j)\n",
    "        for k in Agg_yr_list:\n",
    "            p_k=p_j+k\n",
    "            Data=open(p_k,'r')\n",
    "            D=[json.load(Data)]\n",
    "            for z in D:\n",
    "                reg_user = z['data']['aggregated']['registeredUsers']\n",
    "                app_open = z['data']['aggregated']['appOpens']\n",
    "                clm[\"Registered_User\"].append(reg_user)\n",
    "                clm[\"App_Opens\"].append(app_open)\n",
    "                clm['State'].append(i)\n",
    "                clm['Year'].append(j)\n",
    "                clm['Quater'].append(int(k.strip('.json')))\n",
    "                        \n",
    "\n",
    "Agg_Top=pd.DataFrame(clm)\n",
    "Agg_Top"
   ]
  },
  {
   "cell_type": "code",
   "execution_count": null,
   "id": "cbbe2537",
   "metadata": {},
   "outputs": [],
   "source": [
    "Agg_Top.to_sql('aggregated_user', con=engine, if_exists='replace', index=False)"
   ]
  },
  {
   "cell_type": "code",
   "execution_count": null,
   "id": "4c8b2303",
   "metadata": {},
   "outputs": [],
   "source": [
    "Agg_Top['State'][Agg_Top['State']=='andaman-&-nicobar-islands'] = 'andaman-&-nicobar'\n",
    "Agg_Top['State'][Agg_Top['State']=='dadra-&-nagar-haveli-&-daman-&-diu'] = 'dadra-and-nagar-haveli-and-daman-and-diu'"
   ]
  },
  {
   "cell_type": "markdown",
   "id": "28452fbd-7202-4c4e-b9f1-91cf485bb673",
   "metadata": {},
   "source": [
    "## Aggregated User by Brands"
   ]
  },
  {
   "cell_type": "code",
   "execution_count": null,
   "id": "3a00d362-54ed-4009-bf08-5a3a19022bd4",
   "metadata": {},
   "outputs": [],
   "source": [
    "path=\"C:/Users/DEVAHARINI.KR/Downloads/pulse/data/aggregated/user/country/india/state/\"\n",
    "Agg_state_list=os.listdir(path)\n",
    "clm={'State':[], 'Year':[],'Quater':[], 'Brands':[], 'Brandwise_Register':[], 'Brandwise_percent':[]}\n",
    "for i in Agg_state_list:\n",
    "    p_i=path+i+\"/\"\n",
    "    Agg_yr=os.listdir(p_i)\n",
    "    for j in Agg_yr:\n",
    "        p_j=p_i+j+\"/\"\n",
    "        Agg_yr_list=os.listdir(p_j)\n",
    "        for k in Agg_yr_list:\n",
    "            p_k=p_j+k\n",
    "            Data=open(p_k,'r')\n",
    "            D=json.load(Data)\n",
    "            try:\n",
    "                for z in D['data']['usersByDevice']:\n",
    "                    brand = z['brand']\n",
    "                    brand_reg = z['count']\n",
    "                    brand_percent = z['percentage']\n",
    "                    clm['Brands'].append(brand)\n",
    "                    clm['Brandwise_Register'].append(brand_reg)\n",
    "                    clm['Brandwise_percent'].append(brand_percent)\n",
    "                    clm['State'].append(i)\n",
    "                    clm['Year'].append(j)\n",
    "                    clm['Quater'].append(int(k.strip('.json')))\n",
    "\n",
    "            except:\n",
    "                pass\n",
    "\n",
    "Agg_Top_brand=pd.DataFrame(clm)\n",
    "Agg_Top_brand"
   ]
  },
  {
   "cell_type": "code",
   "execution_count": null,
   "id": "0d64fbb9-fcec-4c09-9387-ba7c1e2b41fa",
   "metadata": {},
   "outputs": [],
   "source": [
    "Agg_Top_brand['State'][Agg_Top_brand['State']=='andaman-&-nicobar-islands'] = 'andaman-&-nicobar'\n",
    "Agg_Top_brand['State'][Agg_Top_brand['State']=='dadra-&-nagar-haveli-&-daman-&-diu'] = 'dadra-and-nagar-haveli-and-daman-and-diu'"
   ]
  },
  {
   "cell_type": "code",
   "execution_count": null,
   "id": "55723ae2-b30f-44d7-b00c-c667e35d656c",
   "metadata": {},
   "outputs": [],
   "source": [
    "Agg_Top_brand"
   ]
  },
  {
   "cell_type": "code",
   "execution_count": null,
   "id": "794c233f-5d2a-4ceb-a051-7e3d0015a6d4",
   "metadata": {},
   "outputs": [],
   "source": [
    "Agg_Top_brand.to_sql('aggregated_user_brand', con=engine, if_exists='replace', index=False)"
   ]
  },
  {
   "cell_type": "markdown",
   "id": "48258c91",
   "metadata": {},
   "source": [
    "## Map Transactions"
   ]
  },
  {
   "cell_type": "code",
   "execution_count": null,
   "id": "2d4031e5",
   "metadata": {},
   "outputs": [],
   "source": [
    "path=\"C:/Users/DEVAHARINI.KR/Downloads/pulse/data/map/transaction/hover/country/india/state/\"\n",
    "Agg_state_list=os.listdir(path)\n",
    "clm={'State':[], 'District_Name': [], 'Year':[],'Quater':[], 'Transacion_count':[], 'Transacion_amount':[]}\n",
    "for i in Agg_state_list:\n",
    "    p_i=path+i+\"/\"\n",
    "    Agg_yr=os.listdir(p_i)\n",
    "    for j in Agg_yr:\n",
    "        p_j=p_i+j+\"/\"\n",
    "        Agg_yr_list=os.listdir(p_j)\n",
    "        for k in Agg_yr_list:\n",
    "            p_k=p_j+k\n",
    "            Data=open(p_k,'r')\n",
    "            D=json.load(Data)\n",
    "            for z in D['data']['hoverDataList']:\n",
    "                Name=z['name']\n",
    "                count=z['metric'][0]['count']\n",
    "                amount=z['metric'][0]['amount']\n",
    "                clm['Transacion_count'].append(count)\n",
    "                clm['Transacion_amount'].append(amount)\n",
    "                clm['State'].append(i)\n",
    "                clm['District_Name'].append(Name)\n",
    "                clm['Year'].append(j)\n",
    "                clm['Quater'].append(int(k.strip('.json')))\n",
    "Map_Trans=pd.DataFrame(clm)\n",
    "Map_Trans"
   ]
  },
  {
   "cell_type": "code",
   "execution_count": null,
   "id": "5941dec5",
   "metadata": {},
   "outputs": [],
   "source": [
    "Map_Trans.to_sql('map_transaction', con=engine, if_exists='replace', index=False)"
   ]
  },
  {
   "cell_type": "code",
   "execution_count": null,
   "id": "75740a84",
   "metadata": {},
   "outputs": [],
   "source": [
    "def title(dist):\n",
    "    for i in dist:\n",
    "        a = i.replace('district', \"\").strip().title() \n",
    "        Map_Trans['District_Name'][Map_Trans['District_Name']==i] = a"
   ]
  },
  {
   "cell_type": "code",
   "execution_count": null,
   "id": "a40ab2c4",
   "metadata": {},
   "outputs": [],
   "source": [
    "title(Map_Trans['District_Name'])"
   ]
  },
  {
   "cell_type": "code",
   "execution_count": null,
   "id": "323396e5",
   "metadata": {},
   "outputs": [],
   "source": [
    "Map_Trans['State'][Map_Trans['State']=='andaman-&-nicobar-islands'] = 'andaman-&-nicobar'\n",
    "Map_Trans['State'][Map_Trans['State']=='dadra-&-nagar-haveli-&-daman-&-diu'] = 'dadra-and-nagar-haveli-and-daman-and-diu'"
   ]
  },
  {
   "cell_type": "code",
   "execution_count": null,
   "id": "0d69b1d4-18fd-4741-88e5-16a30faff49c",
   "metadata": {},
   "outputs": [],
   "source": [
    "Map_Trans"
   ]
  },
  {
   "cell_type": "markdown",
   "id": "a0f59350",
   "metadata": {},
   "source": [
    "## Map Users"
   ]
  },
  {
   "cell_type": "code",
   "execution_count": null,
   "id": "3c183eb4",
   "metadata": {},
   "outputs": [],
   "source": [
    "path=\"C:/Users/DEVAHARINI.KR/Downloads/pulse/data/map/user/hover/country/india/state/\"\n",
    "Agg_state_list=os.listdir(path)\n",
    "clm={'State':[], 'District_Name': [], 'Year':[],'Quater':[], 'Registered_User': [], 'App_Opens':[]}\n",
    "for i in Agg_state_list:\n",
    "    p_i=path+i+\"/\"\n",
    "    Agg_yr=os.listdir(p_i)\n",
    "    for j in Agg_yr:\n",
    "        p_j=p_i+j+\"/\"\n",
    "        Agg_yr_list=os.listdir(p_j)\n",
    "        for k in Agg_yr_list:\n",
    "            p_k=p_j+k\n",
    "            Data=open(p_k,'r')\n",
    "            D=json.load(Data)\n",
    "            for z in D['data']['hoverData']:\n",
    "                Name=z\n",
    "                users=D['data']['hoverData'][z]['registeredUsers']\n",
    "                app=D['data']['hoverData'][z]['appOpens']\n",
    "                clm[\"Registered_User\"].append(users)\n",
    "                clm[\"App_Opens\"].append(app)\n",
    "                clm['State'].append(i)\n",
    "                clm['District_Name'].append(Name)\n",
    "                clm['Year'].append(j)\n",
    "                clm['Quater'].append(int(k.strip('.json')))\n",
    "\n",
    "Map_Users=pd.DataFrame(clm)\n",
    "Map_Users"
   ]
  },
  {
   "cell_type": "code",
   "execution_count": null,
   "id": "2f6f4550",
   "metadata": {},
   "outputs": [],
   "source": [
    "Map_Users.to_sql('map_users', con=engine, if_exists='replace', index=False)"
   ]
  },
  {
   "cell_type": "code",
   "execution_count": null,
   "id": "90690c6e",
   "metadata": {},
   "outputs": [],
   "source": [
    "def title_user(dist):\n",
    "    for i in dist:\n",
    "        a = i.replace('district', \"\").strip().title() \n",
    "        Map_Users['District_Name'][Map_Users['District_Name']==i] = a"
   ]
  },
  {
   "cell_type": "code",
   "execution_count": null,
   "id": "6fbaa7aa",
   "metadata": {},
   "outputs": [],
   "source": [
    "title_user(Map_Users['District_Name'])"
   ]
  },
  {
   "cell_type": "code",
   "execution_count": null,
   "id": "06e7cda9",
   "metadata": {},
   "outputs": [],
   "source": [
    "Map_Users['State'][Map_Users['State']=='andaman-&-nicobar-islands'] = 'andaman-&-nicobar'\n",
    "Map_Users['State'][Map_Users['State']=='dadra-&-nagar-haveli-&-daman-&-diu'] = 'dadra-and-nagar-haveli-and-daman-and-diu'"
   ]
  },
  {
   "cell_type": "code",
   "execution_count": null,
   "id": "d04caae0-999c-4420-b25f-3f7805300d4b",
   "metadata": {},
   "outputs": [],
   "source": [
    "Map_Users[Map_Users['stat']]"
   ]
  },
  {
   "cell_type": "code",
   "execution_count": null,
   "id": "0aad7f19",
   "metadata": {},
   "outputs": [],
   "source": [
    "Map_Users"
   ]
  },
  {
   "cell_type": "markdown",
   "id": "09b62b8b",
   "metadata": {},
   "source": [
    "## Top Transactions District wise"
   ]
  },
  {
   "cell_type": "code",
   "execution_count": null,
   "id": "6ec428ae",
   "metadata": {},
   "outputs": [],
   "source": [
    "path=\"C:/Users/DEVAHARINI.KR/Downloads/pulse/data/top/transaction/country/india/state/\"\n",
    "Agg_state_list=os.listdir(path)\n",
    "clm={'State':[], 'District_Name': [], 'Year':[],'Quater':[], 'Transacion_count':[], 'Transacion_amount':[]}\n",
    "for i in Agg_state_list:\n",
    "    p_i=path+i+\"/\"\n",
    "    Agg_yr=os.listdir(p_i)\n",
    "    for j in Agg_yr:\n",
    "        p_j=p_i+j+\"/\"\n",
    "        Agg_yr_list=os.listdir(p_j)\n",
    "        for k in Agg_yr_list:\n",
    "            p_k=p_j+k\n",
    "            Data=open(p_k,'r')\n",
    "            D=json.load(Data)\n",
    "            for z in D['data']['districts']:\n",
    "                Name=z['entityName']\n",
    "                count=z['metric']['count']\n",
    "                amount=z['metric']['amount']\n",
    "                clm['Transacion_count'].append(count)\n",
    "                clm['Transacion_amount'].append(amount)\n",
    "                clm['State'].append(i)\n",
    "                clm['District_Name'].append(Name)\n",
    "                clm['Year'].append(j)\n",
    "                clm['Quater'].append(int(k.strip('.json')))\n",
    "Top_Transactions_Dist=pd.DataFrame(clm)\n",
    "Top_Transactions_Dist"
   ]
  },
  {
   "cell_type": "code",
   "execution_count": null,
   "id": "2ab17643-f64e-4171-906e-1598a0237bc3",
   "metadata": {},
   "outputs": [],
   "source": [
    "Top_Transactions_Dist['State'][Top_Transactions_Dist['State']=='andaman-&-nicobar-islands'] = 'andaman-&-nicobar'\n",
    "Top_Transactions_Dist['State'][Top_Transactions_Dist['State']=='dadra-&-nagar-haveli-&-daman-&-diu'] = 'dadra-and-nagar-haveli-and-daman-and-diu'"
   ]
  },
  {
   "cell_type": "code",
   "execution_count": null,
   "id": "8e7a4cff",
   "metadata": {},
   "outputs": [],
   "source": [
    "Top_Transactions_Dist.to_sql('top_transaction_dist', con=engine, if_exists='replace', index=False)"
   ]
  },
  {
   "cell_type": "markdown",
   "id": "5a0dfbbd-dfa2-40e8-b664-ae43a50cdf49",
   "metadata": {},
   "source": [
    "## Top Transaction Pincode wise"
   ]
  },
  {
   "cell_type": "code",
   "execution_count": null,
   "id": "817291b9-8dab-46fd-a36e-fc973b1ae887",
   "metadata": {},
   "outputs": [],
   "source": [
    "path=\"C:/Users/DEVAHARINI.KR/Downloads/pulse/data/top/transaction/country/india/state/\"\n",
    "Agg_state_list=os.listdir(path)\n",
    "clm={'State':[], 'Pin_Code': [], 'Year':[],'Quater':[], 'Transacion_count':[], 'Transacion_amount':[]}\n",
    "for i in Agg_state_list:\n",
    "    p_i=path+i+\"/\"\n",
    "    Agg_yr=os.listdir(p_i)\n",
    "    for j in Agg_yr:\n",
    "        p_j=p_i+j+\"/\"\n",
    "        Agg_yr_list=os.listdir(p_j)\n",
    "        for k in Agg_yr_list:\n",
    "            p_k=p_j+k\n",
    "            Data=open(p_k,'r')\n",
    "            D=json.load(Data)\n",
    "            for z in D['data']['pincodes']:\n",
    "                Name=z['entityName']\n",
    "                trans = z['metric']['count']\n",
    "                amt = z['metric']['amount']\n",
    "                clm[\"Transacion_count\"].append(trans)\n",
    "                clm[\"Transacion_amount\"].append(amt)\n",
    "                clm['State'].append(i)\n",
    "                clm['Pin_Code'].append(Name)\n",
    "                clm['Year'].append(j)\n",
    "                clm['Quater'].append(int(k.strip('.json')))\n",
    "\n",
    "Top_pin_Trans=pd.DataFrame(clm)\n",
    "Top_pin_Trans"
   ]
  },
  {
   "cell_type": "code",
   "execution_count": null,
   "id": "f1b6bb4e-0419-4d0c-a4bf-ba9f0768568a",
   "metadata": {},
   "outputs": [],
   "source": [
    "Top_pin_Trans['State'][Top_pin_Trans['State']=='andaman-&-nicobar-islands'] = 'andaman-&-nicobar'\n",
    "Top_pin_Trans['State'][Top_pin_Trans['State']=='dadra-&-nagar-haveli-&-daman-&-diu'] = 'dadra-and-nagar-haveli-and-daman-and-diu'"
   ]
  },
  {
   "cell_type": "code",
   "execution_count": null,
   "id": "9a33681d-a75b-484d-9a12-091879b78826",
   "metadata": {},
   "outputs": [],
   "source": [
    "Top_pin_Trans.to_sql('top_transaction_pin', con=engine, if_exists='replace', index=False)"
   ]
  },
  {
   "cell_type": "code",
   "execution_count": null,
   "id": "28c0811c-d6ca-40a3-a141-9101fb047898",
   "metadata": {},
   "outputs": [],
   "source": []
  },
  {
   "cell_type": "markdown",
   "id": "2988f4df",
   "metadata": {},
   "source": [
    "## Top Users District wise"
   ]
  },
  {
   "cell_type": "code",
   "execution_count": null,
   "id": "a8307bac",
   "metadata": {},
   "outputs": [],
   "source": [
    "path=\"C:/Users/DEVAHARINI.KR/Downloads/pulse/data/top/user/country/india/state/\"\n",
    "Agg_state_list=os.listdir(path)\n",
    "clm={'State':[], 'District_Name': [], 'Year':[],'Quater':[], 'Registered_User':[]}\n",
    "for i in Agg_state_list:\n",
    "    p_i=path+i+\"/\"\n",
    "    Agg_yr=os.listdir(p_i)\n",
    "    for j in Agg_yr:\n",
    "        p_j=p_i+j+\"/\"\n",
    "        Agg_yr_list=os.listdir(p_j)\n",
    "        for k in Agg_yr_list:\n",
    "            p_k=p_j+k\n",
    "            Data=open(p_k,'r')\n",
    "            D=json.load(Data)\n",
    "            for z in D['data']['districts']:\n",
    "                Name=z['name']\n",
    "                users= z['registeredUsers']\n",
    "                clm[\"Registered_User\"].append(users)\n",
    "                clm['State'].append(i)\n",
    "                clm['District_Name'].append(Name)\n",
    "                clm['Year'].append(j)\n",
    "                clm['Quater'].append(int(k.strip('.json')))\n",
    "Top_Dist_User=pd.DataFrame(clm)\n",
    "Top_Dist_User"
   ]
  },
  {
   "cell_type": "code",
   "execution_count": null,
   "id": "8d3af4d3-cf7a-4e8d-bdfc-40873d96b217",
   "metadata": {},
   "outputs": [],
   "source": [
    "Top_Dist_User['State'][Top_Dist_User['State']=='andaman-&-nicobar-islands'] = 'andaman-&-nicobar'\n",
    "Top_Dist_User['State'][Top_Dist_User['State']=='dadra-&-nagar-haveli-&-daman-&-diu'] = 'dadra-and-nagar-haveli-and-daman-and-diu'"
   ]
  },
  {
   "cell_type": "code",
   "execution_count": null,
   "id": "bd828aca",
   "metadata": {},
   "outputs": [],
   "source": [
    "Top_Dist_User.to_sql('district_wise_users', con=engine, if_exists='replace', index=False)"
   ]
  },
  {
   "cell_type": "code",
   "execution_count": null,
   "id": "4f569493",
   "metadata": {},
   "outputs": [],
   "source": []
  },
  {
   "cell_type": "markdown",
   "id": "dafdf373",
   "metadata": {},
   "source": [
    "## Top pincode User"
   ]
  },
  {
   "cell_type": "code",
   "execution_count": null,
   "id": "95368b9d",
   "metadata": {},
   "outputs": [],
   "source": [
    "path=\"C:/Users/DEVAHARINI.KR/Downloads/pulse/data/top/user/country/india/state/\"\n",
    "Agg_state_list=os.listdir(path)\n",
    "clm={'State':[], 'Pin_Code': [], 'Year':[],'Quater':[], 'Registered_User':[]}\n",
    "for i in Agg_state_list:\n",
    "    p_i=path+i+\"/\"\n",
    "    Agg_yr=os.listdir(p_i)\n",
    "    for j in Agg_yr:\n",
    "        p_j=p_i+j+\"/\"\n",
    "        Agg_yr_list=os.listdir(p_j)\n",
    "        for k in Agg_yr_list:\n",
    "            p_k=p_j+k\n",
    "            Data=open(p_k,'r')\n",
    "            D=json.load(Data)\n",
    "            for z in D['data']['pincodes']:\n",
    "                Name=z['name']\n",
    "                users= z['registeredUsers']\n",
    "                clm[\"Registered_User\"].append(users)\n",
    "                clm['State'].append(i)\n",
    "                clm['Pin_Code'].append(Name)\n",
    "                clm['Year'].append(j)\n",
    "                clm['Quater'].append(int(k.strip('.json')))\n",
    "\n",
    "Top_pin_User=pd.DataFrame(clm)\n",
    "Top_pin_User"
   ]
  },
  {
   "cell_type": "code",
   "execution_count": null,
   "id": "a9df9dd1-2108-4361-aadd-2f5df443d500",
   "metadata": {},
   "outputs": [],
   "source": [
    "Top_pin_User['State'][Top_pin_User['State']=='andaman-&-nicobar-islands'] = 'andaman-&-nicobar'\n",
    "Top_pin_User['State'][Top_pin_User['State']=='dadra-&-nagar-haveli-&-daman-&-diu'] = 'dadra-and-nagar-haveli-and-daman-and-diu'"
   ]
  },
  {
   "cell_type": "code",
   "execution_count": null,
   "id": "245cc224",
   "metadata": {},
   "outputs": [],
   "source": [
    "Top_pin_User.to_sql('pincode_wise_users', con=engine, if_exists='replace', index=False)"
   ]
  },
  {
   "cell_type": "code",
   "execution_count": null,
   "id": "df75c47e-9dce-43f3-b96e-568676c4ad8b",
   "metadata": {},
   "outputs": [],
   "source": []
  }
 ],
 "metadata": {
  "kernelspec": {
   "display_name": "Python 3 (ipykernel)",
   "language": "python",
   "name": "python3"
  },
  "language_info": {
   "codemirror_mode": {
    "name": "ipython",
    "version": 3
   },
   "file_extension": ".py",
   "mimetype": "text/x-python",
   "name": "python",
   "nbconvert_exporter": "python",
   "pygments_lexer": "ipython3",
   "version": "3.11.5"
  }
 },
 "nbformat": 4,
 "nbformat_minor": 5
}
